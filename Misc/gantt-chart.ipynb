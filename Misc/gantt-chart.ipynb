{
 "cells": [
  {
   "metadata": {
    "ExecuteTime": {
     "end_time": "2025-10-22T19:38:42.015948Z",
     "start_time": "2025-10-22T19:38:41.951382Z"
    }
   },
   "cell_type": "code",
   "source": [
    "import plotly.express as px\n",
    "import pandas as pd\n",
    "\n",
    "# Define all tasks with start/end dates and associated milestones\n",
    "tasks = [\n",
    "    {\"Task\": \"Proposal preparation\", \"Start\": \"2025-10-17\", \"End\": \"2025-10-24\", \"Milestone\": \"Proposal\"},\n",
    "    {\"Task\": \"Literature scan & method summaries\", \"Start\": \"2025-10-25\", \"End\": \"2025-11-07\", \"Milestone\": \"Intro/Methodology\"},\n",
    "    {\"Task\": \"Environment & repo setup\", \"Start\": \"2025-11-08\", \"End\": \"2025-11-10\", \"Milestone\": \"Intro/Methodology\"},\n",
    "    {\"Task\": \"Dataset ingestion & preprocessing\", \"Start\": \"2025-11-11\", \"End\": \"2025-11-17\", \"Milestone\": \"Intro/Methodology\"},\n",
    "    {\"Task\": \"Classical pipeline implementation\", \"Start\": \"2025-11-18\", \"End\": \"2025-12-01\", \"Milestone\": \"Minimum Viable Product\"},\n",
    "    {\"Task\": \"Classical pipeline evaluation\", \"Start\": \"2025-12-02\", \"End\": \"2025-12-05\", \"Milestone\": \"Minimum Viable Product\"},\n",
    "    {\"Task\": \"CNN pipeline design\", \"Start\": \"2025-12-06\", \"End\": \"2025-12-12\", \"Milestone\": \"Minimum Viable Product\"},\n",
    "    {\"Task\": \"CNN preprocessing & augmentation setup\", \"Start\": \"2025-12-13\", \"End\": \"2025-12-19\", \"Milestone\": \"Minimum Viable Product\"},\n",
    "    {\"Task\": \"CNN training & tuning Phase 1\", \"Start\": \"2025-12-20\", \"End\": \"2026-01-02\", \"Milestone\": \"Minimum Viable Product\"},\n",
    "    {\"Task\": \"CNN training & tuning Phase 2\", \"Start\": \"2026-01-03\", \"End\": \"2026-01-09\", \"Milestone\": \"Minimum Viable Product\"},\n",
    "    {\"Task\": \"Minimum Viable Product\", \"Start\": \"2026-01-10\", \"End\": \"2026-01-19\", \"Milestone\": \"Minimum Viable Product\"},\n",
    "    {\"Task\": \"Robustness tests & cross-dataset evaluation\", \"Start\": \"2026-01-20\", \"End\": \"2026-01-26\", \"Milestone\": \"Show and Tell\"},\n",
    "    {\"Task\": \"Fusion experiments\", \"Start\": \"2026-01-27\", \"End\": \"2026-02-02\", \"Milestone\": \"Show and Tell\"},\n",
    "    {\"Task\": \"Ablation studies & significance tests\", \"Start\": \"2026-02-03\", \"End\": \"2026-02-06\", \"Milestone\": \"Show and Tell\"},\n",
    "    {\"Task\": \"Show & Tell prep / demo notebook\", \"Start\": \"2026-02-07\", \"End\": \"2026-02-13\", \"Milestone\": \"Show and Tell\"},\n",
    "    {\"Task\": \"Integration of feedback & final system\", \"Start\": \"2026-02-14\", \"End\": \"2026-03-13\", \"Milestone\": \"Design and Implementation\"},\n",
    "    {\"Task\": \"Evaluation & conclusions write-up\", \"Start\": \"2026-03-14\", \"End\": \"2026-03-27\", \"Milestone\": \"Evaluation and Conclusions\"},\n",
    "    {\"Task\": \"Report polishing & reproducibility\", \"Start\": \"2026-03-28\", \"End\": \"2026-04-03\", \"Milestone\": \"Poster/Viva Exam\"},\n",
    "    {\"Task\": \"Poster & viva slides preparation\", \"Start\": \"2026-04-04\", \"End\": \"2026-04-13\", \"Milestone\": \"Poster/Viva Exam\"},\n",
    "]\n",
    "\n",
    "df = pd.DataFrame(tasks)\n",
    "\n",
    "# Create Gantt chart\n",
    "fig = px.timeline(df, x_start=\"Start\", x_end=\"End\", y=\"Task\", color=\"Milestone\", title=\"Project Gantt Chart\")\n",
    "fig.update_yaxes(autorange=\"reversed\")  # Show tasks top-down\n",
    "fig.update_layout(xaxis_title=\"Date\", yaxis_title=\"Task\", height=900, width=1400)\n",
    "\n",
    "# Save as PNG\n",
    "#fig.write_image(\"project_gantt_chart.png\", width=1400, height=900)\n",
    "\n",
    "# Show interactive figure in notebook\n",
    "fig.show()\n"
   ],
   "id": "19622ca85220e78",
   "outputs": [
    {
     "data": {
      "application/vnd.plotly.v1+json": {
       "data": [
        {
         "base": [
          "2025-10-17T00:00:00.000000000"
         ],
         "hovertemplate": "Milestone=Proposal<br>Start=%{base}<br>End=%{x}<br>Task=%{y}<extra></extra>",
         "legendgroup": "Proposal",
         "marker": {
          "color": "#636efa",
          "pattern": {
           "shape": ""
          }
         },
         "name": "Proposal",
         "orientation": "h",
         "showlegend": true,
         "textposition": "auto",
         "x": {
          "dtype": "i4",
          "bdata": "AIQMJA=="
         },
         "xaxis": "x",
         "y": [
          "Proposal preparation"
         ],
         "yaxis": "y",
         "type": "bar"
        },
        {
         "base": [
          "2025-10-25T00:00:00.000000000",
          "2025-11-08T00:00:00.000000000",
          "2025-11-11T00:00:00.000000000"
         ],
         "hovertemplate": "Milestone=Intro/Methodology<br>Start=%{base}<br>End=%{x}<br>Task=%{y}<extra></extra>",
         "legendgroup": "Intro/Methodology",
         "marker": {
          "color": "#EF553B",
          "pattern": {
           "shape": ""
          }
         },
         "name": "Intro/Methodology",
         "orientation": "h",
         "showlegend": true,
         "textposition": "auto",
         "x": {
          "dtype": "i4",
          "bdata": "AKzyQgC4TAoAKOYe"
         },
         "xaxis": "x",
         "y": [
          "Literature scan & method summaries",
          "Environment & repo setup",
          "Dataset ingestion & preprocessing"
         ],
         "yaxis": "y",
         "type": "bar"
        },
        {
         "base": [
          "2025-11-18T00:00:00.000000000",
          "2025-12-02T00:00:00.000000000",
          "2025-12-06T00:00:00.000000000",
          "2025-12-13T00:00:00.000000000",
          "2025-12-20T00:00:00.000000000",
          "2026-01-03T00:00:00.000000000",
          "2026-01-10T00:00:00.000000000"
         ],
         "hovertemplate": "Milestone=Minimum Viable Product<br>Start=%{base}<br>End=%{x}<br>Task=%{y}<extra></extra>",
         "legendgroup": "Minimum Viable Product",
         "marker": {
          "color": "#00cc96",
          "pattern": {
           "shape": ""
          }
         },
         "name": "Minimum Viable Product",
         "orientation": "h",
         "showlegend": true,
         "textposition": "auto",
         "x": {
          "dtype": "i4",
          "bdata": "AKzyQgAUcw8AKOYeACjmHgCs8kIAKOYeADxZLg=="
         },
         "xaxis": "x",
         "y": [
          "Classical pipeline implementation",
          "Classical pipeline evaluation",
          "CNN pipeline design",
          "CNN preprocessing & augmentation setup",
          "CNN training & tuning Phase 1",
          "CNN training & tuning Phase 2",
          "Minimum Viable Product"
         ],
         "yaxis": "y",
         "type": "bar"
        },
        {
         "base": [
          "2026-01-20T00:00:00.000000000",
          "2026-01-27T00:00:00.000000000",
          "2026-02-03T00:00:00.000000000",
          "2026-02-07T00:00:00.000000000"
         ],
         "hovertemplate": "Milestone=Show and Tell<br>Start=%{base}<br>End=%{x}<br>Task=%{y}<extra></extra>",
         "legendgroup": "Show and Tell",
         "marker": {
          "color": "#ab63fa",
          "pattern": {
           "shape": ""
          }
         },
         "name": "Show and Tell",
         "orientation": "h",
         "showlegend": true,
         "textposition": "auto",
         "x": {
          "dtype": "i4",
          "bdata": "ACjmHgAo5h4AFHMPACjmHg=="
         },
         "xaxis": "x",
         "y": [
          "Robustness tests & cross-dataset evaluation",
          "Fusion experiments",
          "Ablation studies & significance tests",
          "Show & Tell prep / demo notebook"
         ],
         "yaxis": "y",
         "type": "bar"
        },
        {
         "base": [
          "2026-02-14T00:00:00.000000000"
         ],
         "hovertemplate": "Milestone=Design and Implementation<br>Start=%{base}<br>End=%{x}<br>Task=%{y}<extra></extra>",
         "legendgroup": "Design and Implementation",
         "marker": {
          "color": "#FFA15A",
          "pattern": {
           "shape": ""
          }
         },
         "name": "Design and Implementation",
         "orientation": "h",
         "showlegend": true,
         "textposition": "auto",
         "x": [
          2332800000
         ],
         "xaxis": "x",
         "y": [
          "Integration of feedback & final system"
         ],
         "yaxis": "y",
         "type": "bar"
        },
        {
         "base": [
          "2026-03-14T00:00:00.000000000"
         ],
         "hovertemplate": "Milestone=Evaluation and Conclusions<br>Start=%{base}<br>End=%{x}<br>Task=%{y}<extra></extra>",
         "legendgroup": "Evaluation and Conclusions",
         "marker": {
          "color": "#19d3f3",
          "pattern": {
           "shape": ""
          }
         },
         "name": "Evaluation and Conclusions",
         "orientation": "h",
         "showlegend": true,
         "textposition": "auto",
         "x": {
          "dtype": "i4",
          "bdata": "AKzyQg=="
         },
         "xaxis": "x",
         "y": [
          "Evaluation & conclusions write-up"
         ],
         "yaxis": "y",
         "type": "bar"
        },
        {
         "base": [
          "2026-03-28T00:00:00.000000000",
          "2026-04-04T00:00:00.000000000"
         ],
         "hovertemplate": "Milestone=Poster/Viva Exam<br>Start=%{base}<br>End=%{x}<br>Task=%{y}<extra></extra>",
         "legendgroup": "Poster/Viva Exam",
         "marker": {
          "color": "#FF6692",
          "pattern": {
           "shape": ""
          }
         },
         "name": "Poster/Viva Exam",
         "orientation": "h",
         "showlegend": true,
         "textposition": "auto",
         "x": {
          "dtype": "i4",
          "bdata": "ACjmHgA8WS4="
         },
         "xaxis": "x",
         "y": [
          "Report polishing & reproducibility",
          "Poster & viva slides preparation"
         ],
         "yaxis": "y",
         "type": "bar"
        }
       ],
       "layout": {
        "template": {
         "data": {
          "histogram2dcontour": [
           {
            "type": "histogram2dcontour",
            "colorbar": {
             "outlinewidth": 0,
             "ticks": ""
            },
            "colorscale": [
             [
              0.0,
              "#0d0887"
             ],
             [
              0.1111111111111111,
              "#46039f"
             ],
             [
              0.2222222222222222,
              "#7201a8"
             ],
             [
              0.3333333333333333,
              "#9c179e"
             ],
             [
              0.4444444444444444,
              "#bd3786"
             ],
             [
              0.5555555555555556,
              "#d8576b"
             ],
             [
              0.6666666666666666,
              "#ed7953"
             ],
             [
              0.7777777777777778,
              "#fb9f3a"
             ],
             [
              0.8888888888888888,
              "#fdca26"
             ],
             [
              1.0,
              "#f0f921"
             ]
            ]
           }
          ],
          "choropleth": [
           {
            "type": "choropleth",
            "colorbar": {
             "outlinewidth": 0,
             "ticks": ""
            }
           }
          ],
          "histogram2d": [
           {
            "type": "histogram2d",
            "colorbar": {
             "outlinewidth": 0,
             "ticks": ""
            },
            "colorscale": [
             [
              0.0,
              "#0d0887"
             ],
             [
              0.1111111111111111,
              "#46039f"
             ],
             [
              0.2222222222222222,
              "#7201a8"
             ],
             [
              0.3333333333333333,
              "#9c179e"
             ],
             [
              0.4444444444444444,
              "#bd3786"
             ],
             [
              0.5555555555555556,
              "#d8576b"
             ],
             [
              0.6666666666666666,
              "#ed7953"
             ],
             [
              0.7777777777777778,
              "#fb9f3a"
             ],
             [
              0.8888888888888888,
              "#fdca26"
             ],
             [
              1.0,
              "#f0f921"
             ]
            ]
           }
          ],
          "heatmap": [
           {
            "type": "heatmap",
            "colorbar": {
             "outlinewidth": 0,
             "ticks": ""
            },
            "colorscale": [
             [
              0.0,
              "#0d0887"
             ],
             [
              0.1111111111111111,
              "#46039f"
             ],
             [
              0.2222222222222222,
              "#7201a8"
             ],
             [
              0.3333333333333333,
              "#9c179e"
             ],
             [
              0.4444444444444444,
              "#bd3786"
             ],
             [
              0.5555555555555556,
              "#d8576b"
             ],
             [
              0.6666666666666666,
              "#ed7953"
             ],
             [
              0.7777777777777778,
              "#fb9f3a"
             ],
             [
              0.8888888888888888,
              "#fdca26"
             ],
             [
              1.0,
              "#f0f921"
             ]
            ]
           }
          ],
          "contourcarpet": [
           {
            "type": "contourcarpet",
            "colorbar": {
             "outlinewidth": 0,
             "ticks": ""
            }
           }
          ],
          "contour": [
           {
            "type": "contour",
            "colorbar": {
             "outlinewidth": 0,
             "ticks": ""
            },
            "colorscale": [
             [
              0.0,
              "#0d0887"
             ],
             [
              0.1111111111111111,
              "#46039f"
             ],
             [
              0.2222222222222222,
              "#7201a8"
             ],
             [
              0.3333333333333333,
              "#9c179e"
             ],
             [
              0.4444444444444444,
              "#bd3786"
             ],
             [
              0.5555555555555556,
              "#d8576b"
             ],
             [
              0.6666666666666666,
              "#ed7953"
             ],
             [
              0.7777777777777778,
              "#fb9f3a"
             ],
             [
              0.8888888888888888,
              "#fdca26"
             ],
             [
              1.0,
              "#f0f921"
             ]
            ]
           }
          ],
          "surface": [
           {
            "type": "surface",
            "colorbar": {
             "outlinewidth": 0,
             "ticks": ""
            },
            "colorscale": [
             [
              0.0,
              "#0d0887"
             ],
             [
              0.1111111111111111,
              "#46039f"
             ],
             [
              0.2222222222222222,
              "#7201a8"
             ],
             [
              0.3333333333333333,
              "#9c179e"
             ],
             [
              0.4444444444444444,
              "#bd3786"
             ],
             [
              0.5555555555555556,
              "#d8576b"
             ],
             [
              0.6666666666666666,
              "#ed7953"
             ],
             [
              0.7777777777777778,
              "#fb9f3a"
             ],
             [
              0.8888888888888888,
              "#fdca26"
             ],
             [
              1.0,
              "#f0f921"
             ]
            ]
           }
          ],
          "mesh3d": [
           {
            "type": "mesh3d",
            "colorbar": {
             "outlinewidth": 0,
             "ticks": ""
            }
           }
          ],
          "scatter": [
           {
            "marker": {
             "line": {
              "color": "#283442"
             }
            },
            "type": "scatter"
           }
          ],
          "parcoords": [
           {
            "type": "parcoords",
            "line": {
             "colorbar": {
              "outlinewidth": 0,
              "ticks": ""
             }
            }
           }
          ],
          "scatterpolargl": [
           {
            "type": "scatterpolargl",
            "marker": {
             "colorbar": {
              "outlinewidth": 0,
              "ticks": ""
             }
            }
           }
          ],
          "bar": [
           {
            "error_x": {
             "color": "#f2f5fa"
            },
            "error_y": {
             "color": "#f2f5fa"
            },
            "marker": {
             "line": {
              "color": "rgb(17,17,17)",
              "width": 0.5
             },
             "pattern": {
              "fillmode": "overlay",
              "size": 10,
              "solidity": 0.2
             }
            },
            "type": "bar"
           }
          ],
          "scattergeo": [
           {
            "type": "scattergeo",
            "marker": {
             "colorbar": {
              "outlinewidth": 0,
              "ticks": ""
             }
            }
           }
          ],
          "scatterpolar": [
           {
            "type": "scatterpolar",
            "marker": {
             "colorbar": {
              "outlinewidth": 0,
              "ticks": ""
             }
            }
           }
          ],
          "histogram": [
           {
            "marker": {
             "pattern": {
              "fillmode": "overlay",
              "size": 10,
              "solidity": 0.2
             }
            },
            "type": "histogram"
           }
          ],
          "scattergl": [
           {
            "marker": {
             "line": {
              "color": "#283442"
             }
            },
            "type": "scattergl"
           }
          ],
          "scatter3d": [
           {
            "type": "scatter3d",
            "line": {
             "colorbar": {
              "outlinewidth": 0,
              "ticks": ""
             }
            },
            "marker": {
             "colorbar": {
              "outlinewidth": 0,
              "ticks": ""
             }
            }
           }
          ],
          "scattermap": [
           {
            "type": "scattermap",
            "marker": {
             "colorbar": {
              "outlinewidth": 0,
              "ticks": ""
             }
            }
           }
          ],
          "scattermapbox": [
           {
            "type": "scattermapbox",
            "marker": {
             "colorbar": {
              "outlinewidth": 0,
              "ticks": ""
             }
            }
           }
          ],
          "scatterternary": [
           {
            "type": "scatterternary",
            "marker": {
             "colorbar": {
              "outlinewidth": 0,
              "ticks": ""
             }
            }
           }
          ],
          "scattercarpet": [
           {
            "type": "scattercarpet",
            "marker": {
             "colorbar": {
              "outlinewidth": 0,
              "ticks": ""
             }
            }
           }
          ],
          "carpet": [
           {
            "aaxis": {
             "endlinecolor": "#A2B1C6",
             "gridcolor": "#506784",
             "linecolor": "#506784",
             "minorgridcolor": "#506784",
             "startlinecolor": "#A2B1C6"
            },
            "baxis": {
             "endlinecolor": "#A2B1C6",
             "gridcolor": "#506784",
             "linecolor": "#506784",
             "minorgridcolor": "#506784",
             "startlinecolor": "#A2B1C6"
            },
            "type": "carpet"
           }
          ],
          "table": [
           {
            "cells": {
             "fill": {
              "color": "#506784"
             },
             "line": {
              "color": "rgb(17,17,17)"
             }
            },
            "header": {
             "fill": {
              "color": "#2a3f5f"
             },
             "line": {
              "color": "rgb(17,17,17)"
             }
            },
            "type": "table"
           }
          ],
          "barpolar": [
           {
            "marker": {
             "line": {
              "color": "rgb(17,17,17)",
              "width": 0.5
             },
             "pattern": {
              "fillmode": "overlay",
              "size": 10,
              "solidity": 0.2
             }
            },
            "type": "barpolar"
           }
          ],
          "pie": [
           {
            "automargin": true,
            "type": "pie"
           }
          ]
         },
         "layout": {
          "autotypenumbers": "strict",
          "colorway": [
           "#636efa",
           "#EF553B",
           "#00cc96",
           "#ab63fa",
           "#FFA15A",
           "#19d3f3",
           "#FF6692",
           "#B6E880",
           "#FF97FF",
           "#FECB52"
          ],
          "font": {
           "color": "#f2f5fa"
          },
          "hovermode": "closest",
          "hoverlabel": {
           "align": "left"
          },
          "paper_bgcolor": "rgb(17,17,17)",
          "plot_bgcolor": "rgb(17,17,17)",
          "polar": {
           "bgcolor": "rgb(17,17,17)",
           "angularaxis": {
            "gridcolor": "#506784",
            "linecolor": "#506784",
            "ticks": ""
           },
           "radialaxis": {
            "gridcolor": "#506784",
            "linecolor": "#506784",
            "ticks": ""
           }
          },
          "ternary": {
           "bgcolor": "rgb(17,17,17)",
           "aaxis": {
            "gridcolor": "#506784",
            "linecolor": "#506784",
            "ticks": ""
           },
           "baxis": {
            "gridcolor": "#506784",
            "linecolor": "#506784",
            "ticks": ""
           },
           "caxis": {
            "gridcolor": "#506784",
            "linecolor": "#506784",
            "ticks": ""
           }
          },
          "coloraxis": {
           "colorbar": {
            "outlinewidth": 0,
            "ticks": ""
           }
          },
          "colorscale": {
           "sequential": [
            [
             0.0,
             "#0d0887"
            ],
            [
             0.1111111111111111,
             "#46039f"
            ],
            [
             0.2222222222222222,
             "#7201a8"
            ],
            [
             0.3333333333333333,
             "#9c179e"
            ],
            [
             0.4444444444444444,
             "#bd3786"
            ],
            [
             0.5555555555555556,
             "#d8576b"
            ],
            [
             0.6666666666666666,
             "#ed7953"
            ],
            [
             0.7777777777777778,
             "#fb9f3a"
            ],
            [
             0.8888888888888888,
             "#fdca26"
            ],
            [
             1.0,
             "#f0f921"
            ]
           ],
           "sequentialminus": [
            [
             0.0,
             "#0d0887"
            ],
            [
             0.1111111111111111,
             "#46039f"
            ],
            [
             0.2222222222222222,
             "#7201a8"
            ],
            [
             0.3333333333333333,
             "#9c179e"
            ],
            [
             0.4444444444444444,
             "#bd3786"
            ],
            [
             0.5555555555555556,
             "#d8576b"
            ],
            [
             0.6666666666666666,
             "#ed7953"
            ],
            [
             0.7777777777777778,
             "#fb9f3a"
            ],
            [
             0.8888888888888888,
             "#fdca26"
            ],
            [
             1.0,
             "#f0f921"
            ]
           ],
           "diverging": [
            [
             0,
             "#8e0152"
            ],
            [
             0.1,
             "#c51b7d"
            ],
            [
             0.2,
             "#de77ae"
            ],
            [
             0.3,
             "#f1b6da"
            ],
            [
             0.4,
             "#fde0ef"
            ],
            [
             0.5,
             "#f7f7f7"
            ],
            [
             0.6,
             "#e6f5d0"
            ],
            [
             0.7,
             "#b8e186"
            ],
            [
             0.8,
             "#7fbc41"
            ],
            [
             0.9,
             "#4d9221"
            ],
            [
             1,
             "#276419"
            ]
           ]
          },
          "xaxis": {
           "gridcolor": "#283442",
           "linecolor": "#506784",
           "ticks": "",
           "title": {
            "standoff": 15
           },
           "zerolinecolor": "#283442",
           "automargin": true,
           "zerolinewidth": 2
          },
          "yaxis": {
           "gridcolor": "#283442",
           "linecolor": "#506784",
           "ticks": "",
           "title": {
            "standoff": 15
           },
           "zerolinecolor": "#283442",
           "automargin": true,
           "zerolinewidth": 2
          },
          "scene": {
           "xaxis": {
            "backgroundcolor": "rgb(17,17,17)",
            "gridcolor": "#506784",
            "linecolor": "#506784",
            "showbackground": true,
            "ticks": "",
            "zerolinecolor": "#C8D4E3",
            "gridwidth": 2
           },
           "yaxis": {
            "backgroundcolor": "rgb(17,17,17)",
            "gridcolor": "#506784",
            "linecolor": "#506784",
            "showbackground": true,
            "ticks": "",
            "zerolinecolor": "#C8D4E3",
            "gridwidth": 2
           },
           "zaxis": {
            "backgroundcolor": "rgb(17,17,17)",
            "gridcolor": "#506784",
            "linecolor": "#506784",
            "showbackground": true,
            "ticks": "",
            "zerolinecolor": "#C8D4E3",
            "gridwidth": 2
           }
          },
          "shapedefaults": {
           "line": {
            "color": "#f2f5fa"
           }
          },
          "annotationdefaults": {
           "arrowcolor": "#f2f5fa",
           "arrowhead": 0,
           "arrowwidth": 1
          },
          "geo": {
           "bgcolor": "rgb(17,17,17)",
           "landcolor": "rgb(17,17,17)",
           "subunitcolor": "#506784",
           "showland": true,
           "showlakes": true,
           "lakecolor": "rgb(17,17,17)"
          },
          "title": {
           "x": 0.05
          },
          "updatemenudefaults": {
           "bgcolor": "#506784",
           "borderwidth": 0
          },
          "sliderdefaults": {
           "bgcolor": "#C8D4E3",
           "borderwidth": 1,
           "bordercolor": "rgb(17,17,17)",
           "tickwidth": 0
          },
          "mapbox": {
           "style": "dark"
          }
         }
        },
        "xaxis": {
         "anchor": "y",
         "domain": [
          0.0,
          1.0
         ],
         "type": "date",
         "title": {
          "text": "Date"
         }
        },
        "yaxis": {
         "anchor": "x",
         "domain": [
          0.0,
          1.0
         ],
         "title": {
          "text": "Task"
         },
         "autorange": "reversed"
        },
        "legend": {
         "title": {
          "text": "Milestone"
         },
         "tracegroupgap": 0
        },
        "title": {
         "text": "Project Gantt Chart"
        },
        "barmode": "overlay",
        "height": 900,
        "width": 1400
       },
       "config": {
        "plotlyServerURL": "https://plot.ly"
       }
      }
     },
     "metadata": {},
     "output_type": "display_data",
     "jetTransient": {
      "display_id": null
     }
    }
   ],
   "execution_count": 3
  },
  {
   "cell_type": "code",
   "id": "initial_id",
   "metadata": {
    "collapsed": true,
    "ExecuteTime": {
     "end_time": "2025-10-22T20:41:32.240676Z",
     "start_time": "2025-10-22T20:41:31.629522Z"
    }
   },
   "source": [
    "import matplotlib.pyplot as plt\n",
    "import matplotlib.dates as mdates\n",
    "from datetime import datetime\n",
    "import pandas as pd\n",
    "\n",
    "# Tasks with start/end dates and milestone\n",
    "tasks = [\n",
    "    {\"Task\": \"Proposal preparation\", \"Start\": \"2025-10-17\", \"End\": \"2025-10-24\", \"Milestone\": \"Proposal\"},\n",
    "    {\"Task\": \"Literature scan & method summaries\", \"Start\": \"2025-10-25\", \"End\": \"2025-11-28\", \"Milestone\": \"Intro / Methodology\"},\n",
    "    {\"Task\": \"Environment & repo setup\", \"Start\": \"2025-11-08\", \"End\": \"2025-11-28\", \"Milestone\": \"Intro / Methodology\"},\n",
    "    {\"Task\": \"Dataset ingestion & preprocessing\", \"Start\": \"2025-11-11\", \"End\": \"2025-11-28\", \"Milestone\": \"Intro / Methodology\"},\n",
    "\n",
    "    {\"Task\": \"Classical pipeline implementation\", \"Start\": \"2025-11-29\", \"End\": \"2026-01-19\", \"Milestone\": \"Minimum Viable Product\"},\n",
    "    {\"Task\": \"Classical pipeline evaluation\", \"Start\": \"2025-12-10\", \"End\": \"2026-01-19\", \"Milestone\": \"Minimum Viable Product\"},\n",
    "    {\"Task\": \"CNN pipeline design\", \"Start\": \"2025-12-15\", \"End\": \"2026-01-19\", \"Milestone\": \"Minimum Viable Product\"},\n",
    "    {\"Task\": \"CNN preprocessing & augmentation setup\", \"Start\": \"2025-12-22\", \"End\": \"2026-01-19\", \"Milestone\": \"Minimum Viable Product\"},\n",
    "    {\"Task\": \"CNN training & tuning\", \"Start\": \"2025-12-29\", \"End\": \"2026-01-19\", \"Milestone\": \"Minimum Viable Product\"},\n",
    "\n",
    "    {\"Task\": \"Robustness tests & cross-dataset evaluation\", \"Start\": \"2026-01-20\", \"End\": \"2026-02-23\", \"Milestone\": \"Show and Tell\"},\n",
    "    {\"Task\": \"Fusion experiments\", \"Start\": \"2026-01-27\", \"End\": \"2026-02-23\", \"Milestone\": \"Show and Tell\"},\n",
    "    {\"Task\": \"Ablation studies & significance tests\", \"Start\": \"2026-02-03\", \"End\": \"2026-02-23\", \"Milestone\": \"Show and Tell\"},\n",
    "    {\"Task\": \"Show & Tell prep / demo notebook\", \"Start\": \"2026-02-07\", \"End\": \"2026-02-23\", \"Milestone\": \"Show and Tell\"},\n",
    "\n",
    "    {\"Task\": \"Integration of feedback & final system\", \"Start\": \"2026-02-24\", \"End\": \"2026-03-13\", \"Milestone\": \"Design and Implementation\"},\n",
    "    {\"Task\": \"Evaluation & conclusions write-up\", \"Start\": \"2026-03-14\", \"End\": \"2026-03-27\", \"Milestone\": \"Evaluation and Conclusions\"},\n",
    "    {\"Task\": \"Report polishing & reproducibility\", \"Start\": \"2026-03-28\", \"End\": \"2026-04-13\", \"Milestone\": \"Poster / Viva Exam\"},\n",
    "    {\"Task\": \"Poster & viva slides preparation\", \"Start\": \"2026-03-28\", \"End\": \"2026-04-13\", \"Milestone\": \"Poster / Viva Exam\"},\n",
    "]\n",
    "\n",
    "\n",
    "df = pd.DataFrame(tasks)\n",
    "df[\"Start\"] = pd.to_datetime(df[\"Start\"])\n",
    "df[\"End\"] = pd.to_datetime(df[\"End\"])\n",
    "df[\"Duration\"] = (df[\"End\"] - df[\"Start\"]).dt.days\n",
    "\n",
    "# Colors for milestones\n",
    "colors = {\n",
    "    \"Proposal\": \"tab:blue\",\n",
    "    \"Intro / Methodology\": \"tab:orange\",\n",
    "    \"Minimum Viable Product\": \"tab:green\",\n",
    "    \"Show and Tell\": \"tab:red\",\n",
    "    \"Design and Implementation\": \"tab:purple\",\n",
    "    \"Evaluation and Conclusions\": \"tab:brown\",\n",
    "    \"Poster / Viva Exam\": \"tab:pink\"\n",
    "}\n",
    "\n",
    "\n",
    "# Plot Gantt chart\n",
    "fig, ax = plt.subplots(figsize=(14, 8))\n",
    "\n",
    "# Reverse tasks for top-down ordering\n",
    "for i, row in enumerate(df[::-1].itertuples()):\n",
    "    ax.barh(row.Task, row.Duration, left=row.Start, color=colors[row.Milestone])\n",
    "\n",
    "# Format dates\n",
    "ax.xaxis_date()\n",
    "ax.xaxis.set_major_formatter(mdates.DateFormatter(\"%Y-%m-%d\"))\n",
    "plt.xticks(rotation=45)\n",
    "plt.ylabel(\"Task\")\n",
    "plt.xlabel(\"Date\")\n",
    "plt.title(\"Project Gantt Chart\")\n",
    "\n",
    "# Add legend\n",
    "handles = [plt.Rectangle((0,0),1,1,color=colors[m]) for m in colors]\n",
    "labels = list(colors.keys())\n",
    "ax.legend(handles, labels, title=\"Milestone\", bbox_to_anchor=(1.05, 1), loc='upper left')\n",
    "\n",
    "plt.tight_layout()\n",
    "plt.savefig(\"project_gantt_chart_topdown.png\", dpi=300)\n",
    "plt.show()\n"
   ],
   "outputs": [
    {
     "data": {
      "text/plain": [
       "<Figure size 1400x800 with 1 Axes>"
      ],
      "image/png": "[encoded data removed]"
     },
     "metadata": {},
     "output_type": "display_data",
     "jetTransient": {
      "display_id": null
     }
    }
   ],
   "execution_count": 11
  },
  {
   "metadata": {
    "ExecuteTime": {
     "end_time": "2025-10-22T20:51:35.747012Z",
     "start_time": "2025-10-22T20:51:35.036708Z"
    }
   },
   "cell_type": "code",
   "source": [
    "import pandas as pd\n",
    "import matplotlib.pyplot as plt\n",
    "import matplotlib.dates as mdates\n",
    "import matplotlib.patches as mpatches\n",
    "\n",
    "# --- Milestone date ranges ---\n",
    "milestones = {\n",
    "    \"Proposal\": (\"2025-10-17\", \"2025-10-24\"),\n",
    "    \"Intro / Methodology\": (\"2025-10-25\", \"2025-11-28\"),\n",
    "    \"Minimum Viable Product\": (\"2025-11-29\", \"2026-01-19\"),\n",
    "    \"Show and Tell\": (\"2026-01-20\", \"2026-02-23\"),\n",
    "    \"Design and Implementation\": (\"2026-02-24\", \"2026-03-13\"),\n",
    "    \"Evaluation and Conclusions\": (\"2026-03-14\", \"2026-03-27\"),\n",
    "    \"Poster / Viva Exam\": (\"2026-03-28\", \"2026-04-13\"),\n",
    "}\n",
    "\n",
    "# --- Weighted tasks per milestone ---\n",
    "tasks_by_milestone = {\n",
    "    \"Proposal\": {\n",
    "        \"Proposal preparation\": 1.0\n",
    "    },\n",
    "    \"Intro / Methodology\": {\n",
    "        \"Literature scan & method summaries\": 0.5,\n",
    "        \"Environment & repo setup\": 0.2,\n",
    "        \"Dataset ingestion & preprocessing\": 0.3\n",
    "    },\n",
    "    \"Minimum Viable Product\": {\n",
    "        \"Classical pipeline implementation\": 0.2,\n",
    "        \"Classical pipeline evaluation\": 0.1,\n",
    "        \"CNN pipeline design\": 0.15,\n",
    "        \"CNN preprocessing & augmentation setup\": 0.1,\n",
    "        \"CNN training & tuning Phase 1\": 0.2,\n",
    "        \"CNN training & tuning Phase 2\": 0.15,\n",
    "        \"Minimum Viable Product integration\": 0.1\n",
    "    },\n",
    "    \"Show and Tell\": {\n",
    "        \"Robustness tests & cross-dataset evaluation\": 0.25,\n",
    "        \"Fusion experiments\": 0.25,\n",
    "        \"Ablation studies & significance tests\": 0.2,\n",
    "        \"Show & Tell prep / demo notebook\": 0.3\n",
    "    },\n",
    "    \"Design and Implementation\": {\n",
    "        \"Integration of feedback & final system\": 1.0\n",
    "    },\n",
    "    \"Evaluation and Conclusions\": {\n",
    "        \"Evaluation & conclusions write-up\": 1.0\n",
    "    },\n",
    "    \"Poster / Viva Exam\": {\n",
    "        \"Report polishing & reproducibility\": 0.4,\n",
    "        \"Poster & viva slides preparation\": 0.6\n",
    "    }\n",
    "}\n",
    "\n",
    "# --- Generate weighted schedule ---\n",
    "tasks = []\n",
    "for m, tdict in tasks_by_milestone.items():\n",
    "    start = pd.Timestamp(milestones[m][0])\n",
    "    end = pd.Timestamp(milestones[m][1])\n",
    "    total_days = (end - start).days + 1\n",
    "\n",
    "    cumulative_days = 0\n",
    "    for task, weight in tdict.items():\n",
    "        duration = int(round(weight * total_days))\n",
    "        t_start = start + pd.Timedelta(days=cumulative_days)\n",
    "        t_end = t_start + pd.Timedelta(days=duration - 1)\n",
    "        if t_end > end:\n",
    "            t_end = end\n",
    "        cumulative_days += duration\n",
    "        tasks.append({\n",
    "            \"Task\": task,\n",
    "            \"Start\": t_start,\n",
    "            \"End\": t_end,\n",
    "            \"Milestone\": m\n",
    "        })\n",
    "\n",
    "df = pd.DataFrame(tasks)\n",
    "\n",
    "# Ensure datetime types\n",
    "df[\"Start\"] = pd.to_datetime(df[\"Start\"])\n",
    "df[\"End\"] = pd.to_datetime(df[\"End\"])\n",
    "df[\"Duration\"] = (df[\"End\"] - df[\"Start\"]).dt.days + 1\n",
    "\n",
    "# --- Gantt chart setup ---\n",
    "fig, ax = plt.subplots(figsize=(14, 9))\n",
    "colors = {\n",
    "    \"Proposal\": \"#ff9999\",\n",
    "    \"Intro / Methodology\": \"#ffcc99\",\n",
    "    \"Minimum Viable Product\": \"#99ff99\",\n",
    "    \"Show and Tell\": \"#99ccff\",\n",
    "    \"Design and Implementation\": \"#cc99ff\",\n",
    "    \"Evaluation and Conclusions\": \"#ffb3e6\",\n",
    "    \"Poster / Viva Exam\": \"#b3b3b3\"\n",
    "}\n",
    "\n",
    "# Draw tasks\n",
    "for i, row in enumerate(df[::-1].itertuples()):\n",
    "    ax.barh(row.Task, row.Duration, left=row.Start, color=colors[row.Milestone], edgecolor=\"black\")\n",
    "\n",
    "# Format chart\n",
    "ax.xaxis_date()\n",
    "ax.xaxis.set_major_formatter(mdates.DateFormatter(\"%b %d\"))\n",
    "ax.set_xlabel(\"Timeline\")\n",
    "ax.set_ylabel(\"Tasks\")\n",
    "ax.set_title(\"Project Gantt Chart\")\n",
    "ax.grid(True, axis=\"x\", linestyle=\"--\", alpha=0.6)\n",
    "\n",
    "# --- Add milestone legend ---\n",
    "legend_handles = [mpatches.Patch(color=c, label=m) for m, c in colors.items()]\n",
    "ax.legend(handles=legend_handles, title=\"Milestones\", loc=\"upper right\", bbox_to_anchor=(1.25, 1))\n",
    "\n",
    "plt.tight_layout()\n",
    "\n",
    "plt.savefig(\"project_gantt_chart_topdown.png\", dpi=300)\n",
    "\n",
    "plt.show()\n"
   ],
   "id": "1edce9be12402ff1",
   "outputs": [
    {
     "data": {
      "text/plain": [
       "<Figure size 1400x900 with 1 Axes>"
      ],
      "image/png": "[encoded data removed]"
     },
     "metadata": {},
     "output_type": "display_data",
     "jetTransient": {
      "display_id": null
     }
    }
   ],
   "execution_count": 17
  }
 ],
 "metadata": {
  "kernelspec": {
   "display_name": "Python 3",
   "language": "python",
   "name": "python3"
  },
  "language_info": {
   "codemirror_mode": {
    "name": "ipython",
    "version": 2
   },
   "file_extension": ".py",
   "mimetype": "text/x-python",
   "name": "python",
   "nbconvert_exporter": "python",
   "pygments_lexer": "ipython2",
   "version": "2.7.6"
  }
 },
 "nbformat": 4,
 "nbformat_minor": 5
}
